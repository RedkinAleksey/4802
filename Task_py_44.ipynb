{
  "nbformat": 4,
  "nbformat_minor": 0,
  "metadata": {
    "colab": {
      "provenance": [],
      "authorship_tag": "ABX9TyPFqord3JuconChN8SCsQ/W",
      "include_colab_link": true
    },
    "kernelspec": {
      "name": "python3",
      "display_name": "Python 3"
    },
    "language_info": {
      "name": "python"
    }
  },
  "cells": [
    {
      "cell_type": "markdown",
      "metadata": {
        "id": "view-in-github",
        "colab_type": "text"
      },
      "source": [
        "<a href=\"https://colab.research.google.com/github/RedkinAleksey/4802/blob/main/Task_py_44.ipynb\" target=\"_parent\"><img src=\"https://colab.research.google.com/assets/colab-badge.svg\" alt=\"Open In Colab\"/></a>"
      ]
    },
    {
      "cell_type": "code",
      "execution_count": null,
      "metadata": {
        "colab": {
          "base_uri": "https://localhost:8080/"
        },
        "id": "Px-0qWgC-tJ0",
        "outputId": "b103c88b-85dc-44a3-c6b2-5157d27ff830"
      },
      "outputs": [
        {
          "output_type": "stream",
          "name": "stdout",
          "text": [
            "   whoAmI\n",
            "0   human\n",
            "1   human\n",
            "2   robot\n",
            "3   robot\n",
            "4   human\n",
            "5   human\n",
            "6   human\n",
            "7   robot\n",
            "8   robot\n",
            "9   human\n",
            "10  robot\n",
            "11  human\n",
            "12  human\n",
            "13  robot\n",
            "14  human\n",
            "15  human\n",
            "16  robot\n",
            "17  robot\n",
            "18  robot\n",
            "19  robot\n",
            "\n",
            "   whoAmI  human  robot\n",
            "0   human      1      0\n",
            "1   human      1      0\n",
            "2   robot      0      1\n",
            "3   robot      0      1\n",
            "4   human      1      0\n",
            "5   human      1      0\n",
            "6   human      1      0\n",
            "7   robot      0      1\n",
            "8   robot      0      1\n",
            "9   human      1      0\n",
            "10  robot      0      1\n",
            "11  human      1      0\n",
            "12  human      1      0\n",
            "13  robot      0      1\n",
            "14  human      1      0\n",
            "15  human      1      0\n",
            "16  robot      0      1\n",
            "17  robot      0      1\n",
            "18  robot      0      1\n",
            "19  robot      0      1\n"
          ]
        }
      ],
      "source": [
        "import pandas as pd\n",
        "import random\n",
        "\n",
        "lst = ['robot'] * 10\n",
        "lst += ['human'] * 10\n",
        "random.shuffle(lst)\n",
        "data = pd.DataFrame({'whoAmI': lst})\n",
        "print(data)\n",
        "\n",
        "print ('')\n",
        "\n",
        "one_hot = pd.get_dummies(data['whoAmI'])\n",
        "data = pd.concat([data, one_hot], axis=1)\n",
        "print(data)"
      ]
    }
  ]
}